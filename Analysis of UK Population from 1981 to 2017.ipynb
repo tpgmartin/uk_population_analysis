{
 "cells": [
  {
   "cell_type": "code",
   "execution_count": null,
   "metadata": {
    "collapsed": true
   },
   "outputs": [],
   "source": [
    "from brokenaxes import brokenaxes\n",
    "import jsonstat\n",
    "import matplotlib.pyplot as plt\n",
    "import pandas as pd"
   ]
  },
  {
   "cell_type": "code",
   "execution_count": null,
   "metadata": {},
   "outputs": [],
   "source": [
    "url = 'https://www.nomisweb.co.uk/api/v01/dataset/NM_31_1.jsonstat.json'\n",
    "data = jsonstat.from_url(url)\n",
    "\n",
    "print(data)"
   ]
  },
  {
   "cell_type": "code",
   "execution_count": null,
   "metadata": {},
   "outputs": [],
   "source": [
    "df = data.to_data_frame('geography')\n",
    "df.reset_index(inplace=True)\n",
    "df.head()"
   ]
  },
  {
   "cell_type": "markdown",
   "metadata": {
    "collapsed": true
   },
   "source": [
    "1 A table showing the male, female and total population in columns, per UK region in rows, as well as the UK total, for the most recent year;"
   ]
  },
  {
   "cell_type": "code",
   "execution_count": null,
   "metadata": {
    "collapsed": true
   },
   "outputs": [],
   "source": [
    "# most recent year is the max year by value\n",
    "question_1 = df[(df.date == df.date.max()) & (df.age == 'All ages') & (df.measures == 'Value')][['geography', 'sex','Value']]\n",
    "\n",
    "question_1.columns.values[0] = 'region'\n",
    "question_1.columns.values[-1] = 'value'"
   ]
  },
  {
   "cell_type": "code",
   "execution_count": null,
   "metadata": {
    "collapsed": true
   },
   "outputs": [],
   "source": [
    "def get_england_population_stats(sex):\n",
    "    print(sex)\n",
    "    print(question_1.sex)\n",
    "    population_by_sex = question_1[(question_1.region == 'England and Wales') & (question_1.sex == sex)].iloc[0]['value'] - question_1[(question_1.region == 'Wales') & (question_1.sex == sex)].iloc[0]['value']\n",
    "    return {'region': 'England', 'sex' : sex, 'value': population_by_sex}"
   ]
  },
  {
   "cell_type": "code",
   "execution_count": null,
   "metadata": {},
   "outputs": [],
   "source": [
    "for sex in df.sex.unique():\n",
    "    question_1 = question_1.append(get_england_population_stats(sex), ignore_index=True)"
   ]
  },
  {
   "cell_type": "code",
   "execution_count": null,
   "metadata": {
    "collapsed": true
   },
   "outputs": [],
   "source": [
    "# drop entries corresponding to 'England and Wales' as this is already considered by the separate regions \n",
    "# of England and Wales\n",
    "question_1 = question_1[question_1.region != 'England and Wales']"
   ]
  },
  {
   "cell_type": "code",
   "execution_count": null,
   "metadata": {
    "collapsed": true
   },
   "outputs": [],
   "source": [
    "question_1 = question_1.append({'region': 'UK', 'sex' : 'Male', 'value': question_1[question_1.sex == 'Male']['value'].sum()}, ignore_index=True)\n",
    "question_1 = question_1.append({'region': 'UK', 'sex' : 'Female', 'value': question_1[question_1.sex == 'Female']['value'].sum()}, ignore_index=True)\n",
    "question_1 = question_1.append({'region': 'UK', 'sex' : 'Total', 'value': question_1[question_1.sex == 'Total']['value'].sum()}, ignore_index=True)"
   ]
  },
  {
   "cell_type": "code",
   "execution_count": null,
   "metadata": {},
   "outputs": [],
   "source": [
    "question_1.groupby(['region', 'sex']).sum().unstack('sex')"
   ]
  },
  {
   "cell_type": "code",
   "execution_count": null,
   "metadata": {},
   "outputs": [],
   "source": [
    "# England's population as a proportion of UK's population\n",
    "question_1[(question_1.region == 'England') & (question_1.sex == 'Total')].iloc[0].value / question_1[(question_1.region == 'UK') & (question_1.sex == 'Total')].iloc[0].value"
   ]
  },
  {
   "cell_type": "code",
   "execution_count": null,
   "metadata": {},
   "outputs": [],
   "source": [
    "# Female:Male ratio by region\n",
    "def get_female_to_male_ration(region):\n",
    "    return question_1[(question_1.region == region) & (question_1.sex == 'Female')].iloc[0].value / question_1[(question_1.region == region) & (question_1.sex == 'Male')].iloc[0].value\n",
    "\n",
    "print('England', get_female_to_male_ration('England'))\n",
    "print('Northern Ireland', get_female_to_male_ration('Northern Ireland'))\n",
    "print('Scotland', get_female_to_male_ration('Scotland'))\n",
    "print('Wales', get_female_to_male_ration('Wales'))\n",
    "print('UK', get_female_to_male_ration('UK'))"
   ]
  },
  {
   "cell_type": "markdown",
   "metadata": {},
   "source": [
    "2 Exploratory data analysis to show how the population progressed by regions and age groups;"
   ]
  },
  {
   "cell_type": "code",
   "execution_count": null,
   "metadata": {
    "collapsed": true
   },
   "outputs": [],
   "source": [
    "total_population_by_region = df[(df.age == 'All ages') & (df.sex == 'Total') & (df.measures == 'Value')][['geography', 'date', 'Value']]"
   ]
  },
  {
   "cell_type": "code",
   "execution_count": null,
   "metadata": {
    "collapsed": true
   },
   "outputs": [],
   "source": [
    "for year in total_population_by_region.date.unique():\n",
    "    value = total_population_by_region[(total_population_by_region.geography == 'England and Wales') & (total_population_by_region.date == year)].iloc[0]['Value'] - total_population_by_region[(total_population_by_region.geography == 'Wales') & (total_population_by_region.date == year)].iloc[0]['Value']\n",
    "    total_population_by_region = total_population_by_region.append({'geography': 'England', 'date' : year, 'Value': value}, ignore_index=True)"
   ]
  },
  {
   "cell_type": "code",
   "execution_count": null,
   "metadata": {},
   "outputs": [],
   "source": [
    "total_population_by_region.head()"
   ]
  },
  {
   "cell_type": "code",
   "execution_count": null,
   "metadata": {},
   "outputs": [],
   "source": [
    "total_population_by_region.tail()"
   ]
  },
  {
   "cell_type": "code",
   "execution_count": null,
   "metadata": {},
   "outputs": [],
   "source": [
    "# Population for Northern Ireland only available from 1992\n",
    "total_population_by_region[total_population_by_region.Value.isnull()]"
   ]
  },
  {
   "cell_type": "code",
   "execution_count": null,
   "metadata": {},
   "outputs": [],
   "source": [
    "england = total_population_by_region[total_population_by_region.geography == 'England'][['geography', 'date', 'Value']]\n",
    "northern_ireland = total_population_by_region[total_population_by_region.geography == 'Northern Ireland'][['geography', 'date', 'Value']]\n",
    "scotland = total_population_by_region[total_population_by_region.geography == 'Scotland'][['geography', 'date', 'Value']]\n",
    "wales = total_population_by_region[total_population_by_region.geography == 'Wales'][['geography', 'date', 'Value']]\n",
    "\n",
    "fig = plt.figure(figsize=(10, 8))\n",
    "\n",
    "bax = brokenaxes(ylims=((0, 0.75e7), (4e7, 6e7)), hspace=.08)\n",
    "\n",
    "bax.plot(england.date, england.Value, label='England')\n",
    "bax.plot(northern_ireland.date, northern_ireland.Value, label='Northern Ireland')\n",
    "bax.plot(scotland.date, scotland.Value, label='Scotland')\n",
    "bax.plot(wales.date, wales.Value, label='Wales')\n",
    "bax.set_xlabel('Year')\n",
    "bax.set_ylabel('Population (10s millions)')\n",
    "\n",
    "\n",
    "plt.xticks(rotation='vertical')\n",
    "plt.title('Population Change by UK Region from 1981 to 2017', fontsize=20)\n",
    "bax.legend(loc=5)"
   ]
  },
  {
   "cell_type": "code",
   "execution_count": null,
   "metadata": {},
   "outputs": [],
   "source": [
    "#percentage increase\n",
    "def get_percentage_increase(df):\n",
    "    return (df[df.date == df.date.max()].iloc[0].Value - df[df.date == df.date.min()].iloc[0].Value) / df[df.date == df.date.min()].iloc[0].Value\n",
    "\n",
    "print('England', get_percentage_increase(england))\n",
    "print('Northern Ireland', get_percentage_increase(northern_ireland))\n",
    "print('Scotland', get_percentage_increase(scotland))\n",
    "print('Wales', get_percentage_increase(wales))"
   ]
  },
  {
   "cell_type": "code",
   "execution_count": null,
   "metadata": {
    "collapsed": true
   },
   "outputs": [],
   "source": [
    "# UK population by age group"
   ]
  },
  {
   "cell_type": "code",
   "execution_count": null,
   "metadata": {},
   "outputs": [],
   "source": [
    "wales_demographics = df[(df.geography == 'Wales') & (df.sex == 'Total') & (df.age != 'All ages') & (df.measures == 'Percent')]\n",
    "\n",
    "chart_data = pd.DataFrame({\n",
    "    'date': wales_demographics.date.unique().tolist()\n",
    "}, index=range(1,38))\n",
    "\n",
    "for age_group in wales_demographics.age.unique()[-3:]:\n",
    "    chart_data[str(age_group)] = wales_demographics[(wales_demographics.age == age_group)].Value.tolist()\n",
    "\n",
    "plt.stackplot(chart_data.date, chart_data['Aged 0 - 15'],  chart_data['Aged 16 - 64'],  chart_data['Aged 65 and over'], labels=chart_data.columns[1:])\n",
    "plt.xticks(rotation='vertical')\n",
    "plt.legend(loc='upper left')\n",
    "plt.margins(0,0)\n",
    "plt.title('Proportion change of Wales\\' Population by Age Group')\n",
    "plt.xlabel('Year')\n",
    "plt.ylabel('Percentage (%)')"
   ]
  },
  {
   "cell_type": "code",
   "execution_count": null,
   "metadata": {},
   "outputs": [],
   "source": [
    "scotland_demographics = df[(df.geography == 'Scotland') & (df.sex == 'Total') & (df.age != 'All ages') & (df.measures == 'Percent')]\n",
    "\n",
    "chart_data = pd.DataFrame({\n",
    "    'date': scotland_demographics.date.unique().tolist()\n",
    "}, index=range(1,38))\n",
    "\n",
    "for age_group in scotland_demographics.age.unique()[-3:]:\n",
    "    chart_data[str(age_group)] = scotland_demographics[(scotland_demographics.age == age_group)].Value.tolist()\n",
    "\n",
    "plt.stackplot(chart_data.date, chart_data['Aged 0 - 15'],  chart_data['Aged 16 - 64'],  chart_data['Aged 65 and over'], labels=chart_data.columns[1:])\n",
    "plt.xticks(rotation='vertical')\n",
    "plt.legend(loc='upper left')\n",
    "plt.margins(0,0)\n",
    "plt.title('Proportion change of Scotland\\'s Population by Age Group')\n",
    "plt.xlabel('Year')\n",
    "plt.ylabel('Percentage (%)')"
   ]
  },
  {
   "cell_type": "code",
   "execution_count": null,
   "metadata": {},
   "outputs": [],
   "source": [
    "northern_ireland_demographics = df[(df.geography == 'Northern Ireland') & (df.sex == 'Total') & (df.age != 'All ages') & (df.measures == 'Percent')]\n",
    "\n",
    "chart_data = pd.DataFrame({\n",
    "    'date': northern_ireland_demographics.date.unique().tolist()\n",
    "}, index=range(1,38))\n",
    "\n",
    "for age_group in northern_ireland_demographics.age.unique()[-3:]:\n",
    "    chart_data[str(age_group)] = northern_ireland_demographics[(northern_ireland_demographics.age == age_group)].Value.tolist()\n",
    "\n",
    "plt.stackplot(chart_data.date, chart_data['Aged 0 - 15'],  chart_data['Aged 16 - 64'],  chart_data['Aged 65 and over'], labels=chart_data.columns[1:])\n",
    "plt.xticks(rotation='vertical')\n",
    "plt.legend(loc='upper left')\n",
    "plt.margins(0,0)\n",
    "plt.title('Proportion change of Northern Ireland\\'s Population by Age Group')\n",
    "plt.xlabel('Year')\n",
    "plt.ylabel('Percentage (%)')"
   ]
  },
  {
   "cell_type": "code",
   "execution_count": null,
   "metadata": {},
   "outputs": [],
   "source": [
    "england_demographics = df[(df.geography == 'England and Wales') & (df.sex == 'Total') & (df.age != 'All ages') & (df.measures == 'Percent')]\n",
    "\n",
    "chart_data = pd.DataFrame({\n",
    "    'date': england_demographics.date.unique().tolist()\n",
    "}, index=range(1,38))\n",
    "\n",
    "for age_group in england_demographics.age.unique()[-3:]:\n",
    "    chart_data[str(age_group)] = england_demographics[(england_demographics.age == age_group)].Value.tolist()\n",
    "\n",
    "plt.stackplot(chart_data.date, chart_data['Aged 0 - 15'],  chart_data['Aged 16 - 64'],  chart_data['Aged 65 and over'], labels=chart_data.columns[1:])\n",
    "plt.xticks(rotation='vertical')\n",
    "plt.legend(loc='upper left')\n",
    "plt.margins(0,0)\n",
    "plt.title('Proportion change of England\\'s Population by Age Group')"
   ]
  },
  {
   "cell_type": "code",
   "execution_count": null,
   "metadata": {},
   "outputs": [],
   "source": [
    "england_and_wales_demographics = df[(df.geography == 'England and Wales') & (df.sex == 'Total') & (df.age != 'All ages') & (df.measures == 'Value')]\n",
    "england_and_wales_demographics.head()"
   ]
  },
  {
   "cell_type": "code",
   "execution_count": null,
   "metadata": {
    "collapsed": true
   },
   "outputs": [],
   "source": [
    "# For each year and age group\n",
    "# * Find the \"Value\" for England only (\"England and Wales\" - \"Wales\") for that year and age group\n",
    "# * Calculate percentage by dividing newly found \"Value\" by \"Value\" for \"All ages\""
   ]
  },
  {
   "cell_type": "code",
   "execution_count": null,
   "metadata": {},
   "outputs": [],
   "source": [
    "england_and_wales_demographics = england_and_wales_demographics[~england_and_wales_demographics.Value.isnull()]\n",
    "\n",
    "for year in england_and_wales_demographics.date.unique():\n",
    "    for age_group in england_and_wales_demographics.age.unique()[-3:]:\n",
    "        england_and_wales_pop = england_and_wales_demographics[(england_and_wales_demographics.date == year) & (england_and_wales_demographics.age == age_group)].iloc[0].Value\n",
    "        wales_pop = wales_demographics[(wales_demographics.date == year) & (wales_demographics.age == age_group)].iloc[0].Value\n",
    "        value = england_and_wales_pop - wales_pop\n",
    "\n",
    "        england_and_wales_demographics = england_and_wales_demographics.append({'geography': 'England', 'date' : year, 'sex': 'Total', 'age': age_group, 'measures': 'Value', 'Value': value}, ignore_index=True)\n",
    "        "
   ]
  },
  {
   "cell_type": "code",
   "execution_count": null,
   "metadata": {},
   "outputs": [],
   "source": [
    "england_and_wales_demographics[england_and_wales_demographics.geography == 'England']"
   ]
  },
  {
   "cell_type": "code",
   "execution_count": null,
   "metadata": {},
   "outputs": [],
   "source": []
  },
  {
   "cell_type": "code",
   "execution_count": null,
   "metadata": {
    "collapsed": true
   },
   "outputs": [],
   "source": []
  }
 ],
 "metadata": {
  "kernelspec": {
   "display_name": "Python 3",
   "language": "python",
   "name": "python3"
  },
  "language_info": {
   "codemirror_mode": {
    "name": "ipython",
    "version": 3
   },
   "file_extension": ".py",
   "mimetype": "text/x-python",
   "name": "python",
   "nbconvert_exporter": "python",
   "pygments_lexer": "ipython3",
   "version": "3.6.4"
  }
 },
 "nbformat": 4,
 "nbformat_minor": 2
}
