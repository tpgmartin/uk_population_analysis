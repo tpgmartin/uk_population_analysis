{
 "cells": [
  {
   "cell_type": "code",
   "execution_count": 1,
   "metadata": {
    "collapsed": true
   },
   "outputs": [],
   "source": [
    "import jsonstat\n",
    "import pandas as pd"
   ]
  },
  {
   "cell_type": "code",
   "execution_count": 2,
   "metadata": {},
   "outputs": [
    {
     "name": "stdout",
     "output_type": "stream",
     "text": [
      "name:   'Population estimates - local authority based by five year age band'\n",
      "label:  'Population estimates - local authority based by five year age band'\n",
      "size: 22200\n",
      "+-----+-----------+-----------+------+--------+\n",
      "| pos | id        | label     | size | role   |\n",
      "+-----+-----------+-----------+------+--------+\n",
      "| 0   | time      | date      | 37   | time   |\n",
      "| 1   | geography | geography | 4    | geo    |\n",
      "| 2   | sex       | sex       | 3    |        |\n",
      "| 3   | age       | age       | 25   |        |\n",
      "| 4   | measures  | measures  | 2    | metric |\n",
      "+-----+-----------+-----------+------+--------+\n"
     ]
    }
   ],
   "source": [
    "url = 'https://www.nomisweb.co.uk/api/v01/dataset/NM_31_1.jsonstat.json'\n",
    "data = jsonstat.from_url(url)\n",
    "\n",
    "print(data)"
   ]
  },
  {
   "cell_type": "code",
   "execution_count": 3,
   "metadata": {},
   "outputs": [
    {
     "data": {
      "text/html": [
       "<div>\n",
       "<style scoped>\n",
       "    .dataframe tbody tr th:only-of-type {\n",
       "        vertical-align: middle;\n",
       "    }\n",
       "\n",
       "    .dataframe tbody tr th {\n",
       "        vertical-align: top;\n",
       "    }\n",
       "\n",
       "    .dataframe thead th {\n",
       "        text-align: right;\n",
       "    }\n",
       "</style>\n",
       "<table border=\"1\" class=\"dataframe\">\n",
       "  <thead>\n",
       "    <tr style=\"text-align: right;\">\n",
       "      <th></th>\n",
       "      <th>date</th>\n",
       "      <th>sex</th>\n",
       "      <th>age</th>\n",
       "      <th>measures</th>\n",
       "      <th>Value</th>\n",
       "    </tr>\n",
       "    <tr>\n",
       "      <th>geography</th>\n",
       "      <th></th>\n",
       "      <th></th>\n",
       "      <th></th>\n",
       "      <th></th>\n",
       "      <th></th>\n",
       "    </tr>\n",
       "  </thead>\n",
       "  <tbody>\n",
       "    <tr>\n",
       "      <th>Wales</th>\n",
       "      <td>1981</td>\n",
       "      <td>Male</td>\n",
       "      <td>All ages</td>\n",
       "      <td>Value</td>\n",
       "      <td>1365100.0</td>\n",
       "    </tr>\n",
       "    <tr>\n",
       "      <th>Wales</th>\n",
       "      <td>1981</td>\n",
       "      <td>Male</td>\n",
       "      <td>All ages</td>\n",
       "      <td>Percent</td>\n",
       "      <td>100.0</td>\n",
       "    </tr>\n",
       "    <tr>\n",
       "      <th>Wales</th>\n",
       "      <td>1981</td>\n",
       "      <td>Male</td>\n",
       "      <td>Aged under 1 year</td>\n",
       "      <td>Value</td>\n",
       "      <td>18300.0</td>\n",
       "    </tr>\n",
       "    <tr>\n",
       "      <th>Wales</th>\n",
       "      <td>1981</td>\n",
       "      <td>Male</td>\n",
       "      <td>Aged under 1 year</td>\n",
       "      <td>Percent</td>\n",
       "      <td>1.3</td>\n",
       "    </tr>\n",
       "    <tr>\n",
       "      <th>Wales</th>\n",
       "      <td>1981</td>\n",
       "      <td>Male</td>\n",
       "      <td>Aged 1 - 4 years</td>\n",
       "      <td>Value</td>\n",
       "      <td>70200.0</td>\n",
       "    </tr>\n",
       "  </tbody>\n",
       "</table>\n",
       "</div>"
      ],
      "text/plain": [
       "           date   sex                age measures      Value\n",
       "geography                                                   \n",
       "Wales      1981  Male           All ages    Value  1365100.0\n",
       "Wales      1981  Male           All ages  Percent      100.0\n",
       "Wales      1981  Male  Aged under 1 year    Value    18300.0\n",
       "Wales      1981  Male  Aged under 1 year  Percent        1.3\n",
       "Wales      1981  Male   Aged 1 - 4 years    Value    70200.0"
      ]
     },
     "execution_count": 3,
     "metadata": {},
     "output_type": "execute_result"
    }
   ],
   "source": [
    "df = data.to_data_frame('geography')\n",
    "df.head()"
   ]
  },
  {
   "cell_type": "markdown",
   "metadata": {
    "collapsed": true
   },
   "source": [
    "1 A table showing the male, female and total population in columns, per UK region in rows, as well as the UK total, for the most recent year;"
   ]
  },
  {
   "cell_type": "code",
   "execution_count": 4,
   "metadata": {},
   "outputs": [],
   "source": [
    "# most recent year is the max year by value\n",
    "question_1 = df[(df.date == df.date.max()) & (df.age == 'All ages') & (df.measures == 'Value')][['sex','Value']]\n",
    "\n",
    "question_1.reset_index(inplace=True)\n",
    "question_1.columns.values[0] = 'region'\n",
    "question_1.columns.values[-1] = 'value'"
   ]
  },
  {
   "cell_type": "code",
   "execution_count": 5,
   "metadata": {
    "collapsed": true
   },
   "outputs": [],
   "source": [
    "def get_england_population_stats(sex):\n",
    "    population_by_sex = question_1[(question_1.region == 'England and Wales') & (question_1.sex == sex)].iloc[0]['value'] - question_1[(question_1.region == 'Wales') & (question_1.sex == sex)].iloc[0]['value']\n",
    "    return {'region': 'England', 'sex' : sex, 'value': population_by_sex}"
   ]
  },
  {
   "cell_type": "code",
   "execution_count": 6,
   "metadata": {},
   "outputs": [],
   "source": [
    "for sex in df.sex.unique():\n",
    "    question_1 = question_1.append(get_england_population_stats(sex), ignore_index=True)"
   ]
  },
  {
   "cell_type": "code",
   "execution_count": 7,
   "metadata": {
    "collapsed": true
   },
   "outputs": [],
   "source": [
    "# drop entries corresponding to 'England and Wales' as this is already considered by the separate regions \n",
    "# of England and Wales\n",
    "question_1 = question_1[question_1.region != 'England and Wales']"
   ]
  },
  {
   "cell_type": "code",
   "execution_count": 8,
   "metadata": {},
   "outputs": [],
   "source": [
    "question_1 = question_1.append({'region': 'UK', 'sex' : 'Male', 'value': question_1[question_1.sex == 'Male']['value'].sum()}, ignore_index=True)\n",
    "question_1 = question_1.append({'region': 'UK', 'sex' : 'Female', 'value': question_1[question_1.sex == 'Female']['value'].sum()}, ignore_index=True)\n",
    "question_1 = question_1.append({'region': 'UK', 'sex' : 'Total', 'value': question_1[question_1.sex == 'Total']['value'].sum()}, ignore_index=True)"
   ]
  },
  {
   "cell_type": "code",
   "execution_count": 9,
   "metadata": {},
   "outputs": [
    {
     "data": {
      "text/html": [
       "<div>\n",
       "<style scoped>\n",
       "    .dataframe tbody tr th:only-of-type {\n",
       "        vertical-align: middle;\n",
       "    }\n",
       "\n",
       "    .dataframe tbody tr th {\n",
       "        vertical-align: top;\n",
       "    }\n",
       "\n",
       "    .dataframe thead tr th {\n",
       "        text-align: left;\n",
       "    }\n",
       "\n",
       "    .dataframe thead tr:last-of-type th {\n",
       "        text-align: right;\n",
       "    }\n",
       "</style>\n",
       "<table border=\"1\" class=\"dataframe\">\n",
       "  <thead>\n",
       "    <tr>\n",
       "      <th></th>\n",
       "      <th colspan=\"3\" halign=\"left\">value</th>\n",
       "    </tr>\n",
       "    <tr>\n",
       "      <th>sex</th>\n",
       "      <th>Female</th>\n",
       "      <th>Male</th>\n",
       "      <th>Total</th>\n",
       "    </tr>\n",
       "    <tr>\n",
       "      <th>region</th>\n",
       "      <th></th>\n",
       "      <th></th>\n",
       "      <th></th>\n",
       "    </tr>\n",
       "  </thead>\n",
       "  <tbody>\n",
       "    <tr>\n",
       "      <th>England</th>\n",
       "      <td>28138300.0</td>\n",
       "      <td>27481100.0</td>\n",
       "      <td>55619400.0</td>\n",
       "    </tr>\n",
       "    <tr>\n",
       "      <th>Northern Ireland</th>\n",
       "      <td>950600.0</td>\n",
       "      <td>920200.0</td>\n",
       "      <td>1870800.0</td>\n",
       "    </tr>\n",
       "    <tr>\n",
       "      <th>Scotland</th>\n",
       "      <td>2784500.0</td>\n",
       "      <td>2640300.0</td>\n",
       "      <td>5424800.0</td>\n",
       "    </tr>\n",
       "    <tr>\n",
       "      <th>UK</th>\n",
       "      <td>33458400.0</td>\n",
       "      <td>32581800.0</td>\n",
       "      <td>66040200.0</td>\n",
       "    </tr>\n",
       "    <tr>\n",
       "      <th>Wales</th>\n",
       "      <td>1585000.0</td>\n",
       "      <td>1540200.0</td>\n",
       "      <td>3125200.0</td>\n",
       "    </tr>\n",
       "  </tbody>\n",
       "</table>\n",
       "</div>"
      ],
      "text/plain": [
       "                       value                        \n",
       "sex                   Female        Male       Total\n",
       "region                                              \n",
       "England           28138300.0  27481100.0  55619400.0\n",
       "Northern Ireland    950600.0    920200.0   1870800.0\n",
       "Scotland           2784500.0   2640300.0   5424800.0\n",
       "UK                33458400.0  32581800.0  66040200.0\n",
       "Wales              1585000.0   1540200.0   3125200.0"
      ]
     },
     "execution_count": 9,
     "metadata": {},
     "output_type": "execute_result"
    }
   ],
   "source": [
    "question_1.groupby(['region', 'sex']).sum().unstack('sex')"
   ]
  },
  {
   "cell_type": "markdown",
   "metadata": {},
   "source": [
    "2 Exploratory data analysis to show how the population progressed by regions and age groups;"
   ]
  },
  {
   "cell_type": "code",
   "execution_count": 14,
   "metadata": {},
   "outputs": [],
   "source": [
    "total_population_by_region = df[(df.age == 'All ages') & (df.sex == 'Total') & (df.measures == 'Value')].reset_index()\n",
    "\n",
    "# Plot total population by year for each region"
   ]
  },
  {
   "cell_type": "code",
   "execution_count": 18,
   "metadata": {},
   "outputs": [
    {
     "data": {
      "text/html": [
       "<div>\n",
       "<style scoped>\n",
       "    .dataframe tbody tr th:only-of-type {\n",
       "        vertical-align: middle;\n",
       "    }\n",
       "\n",
       "    .dataframe tbody tr th {\n",
       "        vertical-align: top;\n",
       "    }\n",
       "\n",
       "    .dataframe thead th {\n",
       "        text-align: right;\n",
       "    }\n",
       "</style>\n",
       "<table border=\"1\" class=\"dataframe\">\n",
       "  <thead>\n",
       "    <tr style=\"text-align: right;\">\n",
       "      <th></th>\n",
       "      <th>geography</th>\n",
       "      <th>date</th>\n",
       "      <th>sex</th>\n",
       "      <th>age</th>\n",
       "      <th>measures</th>\n",
       "      <th>Value</th>\n",
       "    </tr>\n",
       "  </thead>\n",
       "  <tbody>\n",
       "    <tr>\n",
       "      <th>2</th>\n",
       "      <td>Northern Ireland</td>\n",
       "      <td>1981</td>\n",
       "      <td>Total</td>\n",
       "      <td>All ages</td>\n",
       "      <td>Value</td>\n",
       "      <td>NaN</td>\n",
       "    </tr>\n",
       "    <tr>\n",
       "      <th>6</th>\n",
       "      <td>Northern Ireland</td>\n",
       "      <td>1982</td>\n",
       "      <td>Total</td>\n",
       "      <td>All ages</td>\n",
       "      <td>Value</td>\n",
       "      <td>NaN</td>\n",
       "    </tr>\n",
       "    <tr>\n",
       "      <th>10</th>\n",
       "      <td>Northern Ireland</td>\n",
       "      <td>1983</td>\n",
       "      <td>Total</td>\n",
       "      <td>All ages</td>\n",
       "      <td>Value</td>\n",
       "      <td>NaN</td>\n",
       "    </tr>\n",
       "    <tr>\n",
       "      <th>14</th>\n",
       "      <td>Northern Ireland</td>\n",
       "      <td>1984</td>\n",
       "      <td>Total</td>\n",
       "      <td>All ages</td>\n",
       "      <td>Value</td>\n",
       "      <td>NaN</td>\n",
       "    </tr>\n",
       "    <tr>\n",
       "      <th>18</th>\n",
       "      <td>Northern Ireland</td>\n",
       "      <td>1985</td>\n",
       "      <td>Total</td>\n",
       "      <td>All ages</td>\n",
       "      <td>Value</td>\n",
       "      <td>NaN</td>\n",
       "    </tr>\n",
       "    <tr>\n",
       "      <th>22</th>\n",
       "      <td>Northern Ireland</td>\n",
       "      <td>1986</td>\n",
       "      <td>Total</td>\n",
       "      <td>All ages</td>\n",
       "      <td>Value</td>\n",
       "      <td>NaN</td>\n",
       "    </tr>\n",
       "    <tr>\n",
       "      <th>26</th>\n",
       "      <td>Northern Ireland</td>\n",
       "      <td>1987</td>\n",
       "      <td>Total</td>\n",
       "      <td>All ages</td>\n",
       "      <td>Value</td>\n",
       "      <td>NaN</td>\n",
       "    </tr>\n",
       "    <tr>\n",
       "      <th>30</th>\n",
       "      <td>Northern Ireland</td>\n",
       "      <td>1988</td>\n",
       "      <td>Total</td>\n",
       "      <td>All ages</td>\n",
       "      <td>Value</td>\n",
       "      <td>NaN</td>\n",
       "    </tr>\n",
       "    <tr>\n",
       "      <th>34</th>\n",
       "      <td>Northern Ireland</td>\n",
       "      <td>1989</td>\n",
       "      <td>Total</td>\n",
       "      <td>All ages</td>\n",
       "      <td>Value</td>\n",
       "      <td>NaN</td>\n",
       "    </tr>\n",
       "    <tr>\n",
       "      <th>38</th>\n",
       "      <td>Northern Ireland</td>\n",
       "      <td>1990</td>\n",
       "      <td>Total</td>\n",
       "      <td>All ages</td>\n",
       "      <td>Value</td>\n",
       "      <td>NaN</td>\n",
       "    </tr>\n",
       "    <tr>\n",
       "      <th>42</th>\n",
       "      <td>Northern Ireland</td>\n",
       "      <td>1991</td>\n",
       "      <td>Total</td>\n",
       "      <td>All ages</td>\n",
       "      <td>Value</td>\n",
       "      <td>NaN</td>\n",
       "    </tr>\n",
       "  </tbody>\n",
       "</table>\n",
       "</div>"
      ],
      "text/plain": [
       "           geography  date    sex       age measures  Value\n",
       "2   Northern Ireland  1981  Total  All ages    Value    NaN\n",
       "6   Northern Ireland  1982  Total  All ages    Value    NaN\n",
       "10  Northern Ireland  1983  Total  All ages    Value    NaN\n",
       "14  Northern Ireland  1984  Total  All ages    Value    NaN\n",
       "18  Northern Ireland  1985  Total  All ages    Value    NaN\n",
       "22  Northern Ireland  1986  Total  All ages    Value    NaN\n",
       "26  Northern Ireland  1987  Total  All ages    Value    NaN\n",
       "30  Northern Ireland  1988  Total  All ages    Value    NaN\n",
       "34  Northern Ireland  1989  Total  All ages    Value    NaN\n",
       "38  Northern Ireland  1990  Total  All ages    Value    NaN\n",
       "42  Northern Ireland  1991  Total  All ages    Value    NaN"
      ]
     },
     "execution_count": 18,
     "metadata": {},
     "output_type": "execute_result"
    }
   ],
   "source": [
    "total_population_by_region[total_population_by_region.Value.isnull()]"
   ]
  },
  {
   "cell_type": "code",
   "execution_count": null,
   "metadata": {
    "collapsed": true
   },
   "outputs": [],
   "source": []
  }
 ],
 "metadata": {
  "kernelspec": {
   "display_name": "Python 3",
   "language": "python",
   "name": "python3"
  },
  "language_info": {
   "codemirror_mode": {
    "name": "ipython",
    "version": 3
   },
   "file_extension": ".py",
   "mimetype": "text/x-python",
   "name": "python",
   "nbconvert_exporter": "python",
   "pygments_lexer": "ipython3",
   "version": "3.6.4"
  }
 },
 "nbformat": 4,
 "nbformat_minor": 2
}
