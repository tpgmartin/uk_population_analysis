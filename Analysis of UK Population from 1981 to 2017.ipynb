{
 "cells": [
  {
   "cell_type": "code",
   "execution_count": 1,
   "metadata": {
    "collapsed": true
   },
   "outputs": [],
   "source": [
    "from brokenaxes import brokenaxes\n",
    "import jsonstat\n",
    "import matplotlib.pyplot as plt\n",
    "import pandas as pd"
   ]
  },
  {
   "cell_type": "code",
   "execution_count": 2,
   "metadata": {},
   "outputs": [
    {
     "name": "stdout",
     "output_type": "stream",
     "text": [
      "name:   'Population estimates - local authority based by five year age band'\n",
      "label:  'Population estimates - local authority based by five year age band'\n",
      "size: 22200\n",
      "+-----+-----------+-----------+------+--------+\n",
      "| pos | id        | label     | size | role   |\n",
      "+-----+-----------+-----------+------+--------+\n",
      "| 0   | time      | date      | 37   | time   |\n",
      "| 1   | geography | geography | 4    | geo    |\n",
      "| 2   | sex       | sex       | 3    |        |\n",
      "| 3   | age       | age       | 25   |        |\n",
      "| 4   | measures  | measures  | 2    | metric |\n",
      "+-----+-----------+-----------+------+--------+\n"
     ]
    }
   ],
   "source": [
    "url = 'https://www.nomisweb.co.uk/api/v01/dataset/NM_31_1.jsonstat.json'\n",
    "data = jsonstat.from_url(url)\n",
    "\n",
    "print(data)"
   ]
  },
  {
   "cell_type": "code",
   "execution_count": 3,
   "metadata": {},
   "outputs": [
    {
     "data": {
      "text/html": [
       "<div>\n",
       "<style scoped>\n",
       "    .dataframe tbody tr th:only-of-type {\n",
       "        vertical-align: middle;\n",
       "    }\n",
       "\n",
       "    .dataframe tbody tr th {\n",
       "        vertical-align: top;\n",
       "    }\n",
       "\n",
       "    .dataframe thead th {\n",
       "        text-align: right;\n",
       "    }\n",
       "</style>\n",
       "<table border=\"1\" class=\"dataframe\">\n",
       "  <thead>\n",
       "    <tr style=\"text-align: right;\">\n",
       "      <th></th>\n",
       "      <th>geography</th>\n",
       "      <th>date</th>\n",
       "      <th>sex</th>\n",
       "      <th>age</th>\n",
       "      <th>measures</th>\n",
       "      <th>Value</th>\n",
       "    </tr>\n",
       "  </thead>\n",
       "  <tbody>\n",
       "    <tr>\n",
       "      <th>0</th>\n",
       "      <td>Wales</td>\n",
       "      <td>1981</td>\n",
       "      <td>Male</td>\n",
       "      <td>All ages</td>\n",
       "      <td>Value</td>\n",
       "      <td>1365100.0</td>\n",
       "    </tr>\n",
       "    <tr>\n",
       "      <th>1</th>\n",
       "      <td>Wales</td>\n",
       "      <td>1981</td>\n",
       "      <td>Male</td>\n",
       "      <td>All ages</td>\n",
       "      <td>Percent</td>\n",
       "      <td>100.0</td>\n",
       "    </tr>\n",
       "    <tr>\n",
       "      <th>2</th>\n",
       "      <td>Wales</td>\n",
       "      <td>1981</td>\n",
       "      <td>Male</td>\n",
       "      <td>Aged under 1 year</td>\n",
       "      <td>Value</td>\n",
       "      <td>18300.0</td>\n",
       "    </tr>\n",
       "    <tr>\n",
       "      <th>3</th>\n",
       "      <td>Wales</td>\n",
       "      <td>1981</td>\n",
       "      <td>Male</td>\n",
       "      <td>Aged under 1 year</td>\n",
       "      <td>Percent</td>\n",
       "      <td>1.3</td>\n",
       "    </tr>\n",
       "    <tr>\n",
       "      <th>4</th>\n",
       "      <td>Wales</td>\n",
       "      <td>1981</td>\n",
       "      <td>Male</td>\n",
       "      <td>Aged 1 - 4 years</td>\n",
       "      <td>Value</td>\n",
       "      <td>70200.0</td>\n",
       "    </tr>\n",
       "  </tbody>\n",
       "</table>\n",
       "</div>"
      ],
      "text/plain": [
       "  geography  date   sex                age measures      Value\n",
       "0     Wales  1981  Male           All ages    Value  1365100.0\n",
       "1     Wales  1981  Male           All ages  Percent      100.0\n",
       "2     Wales  1981  Male  Aged under 1 year    Value    18300.0\n",
       "3     Wales  1981  Male  Aged under 1 year  Percent        1.3\n",
       "4     Wales  1981  Male   Aged 1 - 4 years    Value    70200.0"
      ]
     },
     "execution_count": 3,
     "metadata": {},
     "output_type": "execute_result"
    }
   ],
   "source": [
    "df = data.to_data_frame('geography')\n",
    "df.reset_index(inplace=True)\n",
    "df.head()"
   ]
  },
  {
   "cell_type": "markdown",
   "metadata": {
    "collapsed": true
   },
   "source": [
    "1 A table showing the male, female and total population in columns, per UK region in rows, as well as the UK total, for the most recent year;"
   ]
  },
  {
   "cell_type": "code",
   "execution_count": 4,
   "metadata": {
    "collapsed": true
   },
   "outputs": [],
   "source": [
    "# most recent year is the max year by value\n",
    "question_1 = df[(df.date == df.date.max()) & (df.age == 'All ages') & (df.measures == 'Value')][['geography', 'sex','Value']]\n",
    "\n",
    "question_1.columns.values[0] = 'region'\n",
    "question_1.columns.values[-1] = 'value'"
   ]
  },
  {
   "cell_type": "code",
   "execution_count": 5,
   "metadata": {
    "collapsed": true
   },
   "outputs": [],
   "source": [
    "def get_england_population_stats(sex):\n",
    "    population_by_sex = question_1[(question_1.region == 'England and Wales') & (question_1.sex == sex)].iloc[0]['value'] - question_1[(question_1.region == 'Wales') & (question_1.sex == sex)].iloc[0]['value']\n",
    "    return {'region': 'England', 'sex' : sex, 'value': population_by_sex}"
   ]
  },
  {
   "cell_type": "code",
   "execution_count": 6,
   "metadata": {},
   "outputs": [],
   "source": [
    "for sex in df.sex.unique():\n",
    "    question_1 = question_1.append(get_england_population_stats(sex), ignore_index=True)"
   ]
  },
  {
   "cell_type": "code",
   "execution_count": 7,
   "metadata": {
    "collapsed": true
   },
   "outputs": [],
   "source": [
    "# drop entries corresponding to 'England and Wales' as this is already considered by the separate regions \n",
    "# of England and Wales\n",
    "question_1 = question_1[question_1.region != 'England and Wales']"
   ]
  },
  {
   "cell_type": "code",
   "execution_count": 8,
   "metadata": {
    "collapsed": true
   },
   "outputs": [],
   "source": [
    "question_1 = question_1.append({'region': 'UK', 'sex' : 'Male', 'value': question_1[question_1.sex == 'Male']['value'].sum()}, ignore_index=True)\n",
    "question_1 = question_1.append({'region': 'UK', 'sex' : 'Female', 'value': question_1[question_1.sex == 'Female']['value'].sum()}, ignore_index=True)\n",
    "question_1 = question_1.append({'region': 'UK', 'sex' : 'Total', 'value': question_1[question_1.sex == 'Total']['value'].sum()}, ignore_index=True)"
   ]
  },
  {
   "cell_type": "code",
   "execution_count": 9,
   "metadata": {},
   "outputs": [
    {
     "data": {
      "text/html": [
       "<div>\n",
       "<style scoped>\n",
       "    .dataframe tbody tr th:only-of-type {\n",
       "        vertical-align: middle;\n",
       "    }\n",
       "\n",
       "    .dataframe tbody tr th {\n",
       "        vertical-align: top;\n",
       "    }\n",
       "\n",
       "    .dataframe thead tr th {\n",
       "        text-align: left;\n",
       "    }\n",
       "\n",
       "    .dataframe thead tr:last-of-type th {\n",
       "        text-align: right;\n",
       "    }\n",
       "</style>\n",
       "<table border=\"1\" class=\"dataframe\">\n",
       "  <thead>\n",
       "    <tr>\n",
       "      <th></th>\n",
       "      <th colspan=\"3\" halign=\"left\">value</th>\n",
       "    </tr>\n",
       "    <tr>\n",
       "      <th>sex</th>\n",
       "      <th>Female</th>\n",
       "      <th>Male</th>\n",
       "      <th>Total</th>\n",
       "    </tr>\n",
       "    <tr>\n",
       "      <th>region</th>\n",
       "      <th></th>\n",
       "      <th></th>\n",
       "      <th></th>\n",
       "    </tr>\n",
       "  </thead>\n",
       "  <tbody>\n",
       "    <tr>\n",
       "      <th>England</th>\n",
       "      <td>28138300.0</td>\n",
       "      <td>27481100.0</td>\n",
       "      <td>55619400.0</td>\n",
       "    </tr>\n",
       "    <tr>\n",
       "      <th>Northern Ireland</th>\n",
       "      <td>950600.0</td>\n",
       "      <td>920200.0</td>\n",
       "      <td>1870800.0</td>\n",
       "    </tr>\n",
       "    <tr>\n",
       "      <th>Scotland</th>\n",
       "      <td>2784500.0</td>\n",
       "      <td>2640300.0</td>\n",
       "      <td>5424800.0</td>\n",
       "    </tr>\n",
       "    <tr>\n",
       "      <th>UK</th>\n",
       "      <td>33458400.0</td>\n",
       "      <td>32581800.0</td>\n",
       "      <td>66040200.0</td>\n",
       "    </tr>\n",
       "    <tr>\n",
       "      <th>Wales</th>\n",
       "      <td>1585000.0</td>\n",
       "      <td>1540200.0</td>\n",
       "      <td>3125200.0</td>\n",
       "    </tr>\n",
       "  </tbody>\n",
       "</table>\n",
       "</div>"
      ],
      "text/plain": [
       "                       value                        \n",
       "sex                   Female        Male       Total\n",
       "region                                              \n",
       "England           28138300.0  27481100.0  55619400.0\n",
       "Northern Ireland    950600.0    920200.0   1870800.0\n",
       "Scotland           2784500.0   2640300.0   5424800.0\n",
       "UK                33458400.0  32581800.0  66040200.0\n",
       "Wales              1585000.0   1540200.0   3125200.0"
      ]
     },
     "execution_count": 9,
     "metadata": {},
     "output_type": "execute_result"
    }
   ],
   "source": [
    "question_1.groupby(['region', 'sex']).sum().unstack('sex')"
   ]
  },
  {
   "cell_type": "code",
   "execution_count": 10,
   "metadata": {},
   "outputs": [
    {
     "data": {
      "text/plain": [
       "0.8422052022858805"
      ]
     },
     "execution_count": 10,
     "metadata": {},
     "output_type": "execute_result"
    }
   ],
   "source": [
    "# England's population as a proportion of UK's population\n",
    "question_1[(question_1.region == 'England') & (question_1.sex == 'Total')].iloc[0].value / question_1[(question_1.region == 'UK') & (question_1.sex == 'Total')].iloc[0].value"
   ]
  },
  {
   "cell_type": "code",
   "execution_count": 11,
   "metadata": {},
   "outputs": [
    {
     "name": "stdout",
     "output_type": "stream",
     "text": [
      "England 1.0239146176826983\n",
      "Northern Ireland 1.033036296457292\n",
      "Scotland 1.054615005870545\n",
      "Wales 1.0290871315413583\n",
      "UK 1.0269045909065797\n"
     ]
    }
   ],
   "source": [
    "# Female:Male ratio by region\n",
    "def get_female_to_male_ration(region):\n",
    "    return question_1[(question_1.region == region) & (question_1.sex == 'Female')].iloc[0].value / question_1[(question_1.region == region) & (question_1.sex == 'Male')].iloc[0].value\n",
    "\n",
    "print('England', get_female_to_male_ration('England'))\n",
    "print('Northern Ireland', get_female_to_male_ration('Northern Ireland'))\n",
    "print('Scotland', get_female_to_male_ration('Scotland'))\n",
    "print('Wales', get_female_to_male_ration('Wales'))\n",
    "print('UK', get_female_to_male_ration('UK'))"
   ]
  },
  {
   "cell_type": "markdown",
   "metadata": {},
   "source": [
    "2 Exploratory data analysis to show how the population progressed by regions and age groups;"
   ]
  },
  {
   "cell_type": "code",
   "execution_count": 12,
   "metadata": {
    "collapsed": true
   },
   "outputs": [],
   "source": [
    "total_population_by_region = df[(df.age == 'All ages') & (df.sex == 'Total') & (df.measures == 'Value')][['geography', 'date', 'Value']]"
   ]
  },
  {
   "cell_type": "code",
   "execution_count": 13,
   "metadata": {
    "collapsed": true
   },
   "outputs": [],
   "source": [
    "for year in total_population_by_region.date.unique():\n",
    "    value = total_population_by_region[(total_population_by_region.geography == 'England and Wales') & (total_population_by_region.date == year)].iloc[0]['Value'] - total_population_by_region[(total_population_by_region.geography == 'Wales') & (total_population_by_region.date == year)].iloc[0]['Value']\n",
    "    total_population_by_region = total_population_by_region.append({'geography': 'England', 'date' : year, 'Value': value}, ignore_index=True)"
   ]
  },
  {
   "cell_type": "code",
   "execution_count": 14,
   "metadata": {},
   "outputs": [
    {
     "data": {
      "text/html": [
       "<div>\n",
       "<style scoped>\n",
       "    .dataframe tbody tr th:only-of-type {\n",
       "        vertical-align: middle;\n",
       "    }\n",
       "\n",
       "    .dataframe tbody tr th {\n",
       "        vertical-align: top;\n",
       "    }\n",
       "\n",
       "    .dataframe thead th {\n",
       "        text-align: right;\n",
       "    }\n",
       "</style>\n",
       "<table border=\"1\" class=\"dataframe\">\n",
       "  <thead>\n",
       "    <tr style=\"text-align: right;\">\n",
       "      <th></th>\n",
       "      <th>geography</th>\n",
       "      <th>date</th>\n",
       "      <th>Value</th>\n",
       "    </tr>\n",
       "  </thead>\n",
       "  <tbody>\n",
       "    <tr>\n",
       "      <th>0</th>\n",
       "      <td>Wales</td>\n",
       "      <td>1981</td>\n",
       "      <td>2813500.0</td>\n",
       "    </tr>\n",
       "    <tr>\n",
       "      <th>1</th>\n",
       "      <td>Scotland</td>\n",
       "      <td>1981</td>\n",
       "      <td>5180200.0</td>\n",
       "    </tr>\n",
       "    <tr>\n",
       "      <th>2</th>\n",
       "      <td>Northern Ireland</td>\n",
       "      <td>1981</td>\n",
       "      <td>NaN</td>\n",
       "    </tr>\n",
       "    <tr>\n",
       "      <th>3</th>\n",
       "      <td>England and Wales</td>\n",
       "      <td>1981</td>\n",
       "      <td>49634300.0</td>\n",
       "    </tr>\n",
       "    <tr>\n",
       "      <th>4</th>\n",
       "      <td>Wales</td>\n",
       "      <td>1982</td>\n",
       "      <td>2804300.0</td>\n",
       "    </tr>\n",
       "  </tbody>\n",
       "</table>\n",
       "</div>"
      ],
      "text/plain": [
       "           geography  date       Value\n",
       "0              Wales  1981   2813500.0\n",
       "1           Scotland  1981   5180200.0\n",
       "2   Northern Ireland  1981         NaN\n",
       "3  England and Wales  1981  49634300.0\n",
       "4              Wales  1982   2804300.0"
      ]
     },
     "execution_count": 14,
     "metadata": {},
     "output_type": "execute_result"
    }
   ],
   "source": [
    "total_population_by_region.head()"
   ]
  },
  {
   "cell_type": "code",
   "execution_count": 15,
   "metadata": {},
   "outputs": [
    {
     "data": {
      "text/html": [
       "<div>\n",
       "<style scoped>\n",
       "    .dataframe tbody tr th:only-of-type {\n",
       "        vertical-align: middle;\n",
       "    }\n",
       "\n",
       "    .dataframe tbody tr th {\n",
       "        vertical-align: top;\n",
       "    }\n",
       "\n",
       "    .dataframe thead th {\n",
       "        text-align: right;\n",
       "    }\n",
       "</style>\n",
       "<table border=\"1\" class=\"dataframe\">\n",
       "  <thead>\n",
       "    <tr style=\"text-align: right;\">\n",
       "      <th></th>\n",
       "      <th>geography</th>\n",
       "      <th>date</th>\n",
       "      <th>Value</th>\n",
       "    </tr>\n",
       "  </thead>\n",
       "  <tbody>\n",
       "    <tr>\n",
       "      <th>180</th>\n",
       "      <td>England</td>\n",
       "      <td>2013</td>\n",
       "      <td>53865800.0</td>\n",
       "    </tr>\n",
       "    <tr>\n",
       "      <th>181</th>\n",
       "      <td>England</td>\n",
       "      <td>2014</td>\n",
       "      <td>54316700.0</td>\n",
       "    </tr>\n",
       "    <tr>\n",
       "      <th>182</th>\n",
       "      <td>England</td>\n",
       "      <td>2015</td>\n",
       "      <td>54786300.0</td>\n",
       "    </tr>\n",
       "    <tr>\n",
       "      <th>183</th>\n",
       "      <td>England</td>\n",
       "      <td>2016</td>\n",
       "      <td>55268000.0</td>\n",
       "    </tr>\n",
       "    <tr>\n",
       "      <th>184</th>\n",
       "      <td>England</td>\n",
       "      <td>2017</td>\n",
       "      <td>55619400.0</td>\n",
       "    </tr>\n",
       "  </tbody>\n",
       "</table>\n",
       "</div>"
      ],
      "text/plain": [
       "    geography  date       Value\n",
       "180   England  2013  53865800.0\n",
       "181   England  2014  54316700.0\n",
       "182   England  2015  54786300.0\n",
       "183   England  2016  55268000.0\n",
       "184   England  2017  55619400.0"
      ]
     },
     "execution_count": 15,
     "metadata": {},
     "output_type": "execute_result"
    }
   ],
   "source": [
    "total_population_by_region.tail()"
   ]
  },
  {
   "cell_type": "code",
   "execution_count": 16,
   "metadata": {},
   "outputs": [
    {
     "data": {
      "text/html": [
       "<div>\n",
       "<style scoped>\n",
       "    .dataframe tbody tr th:only-of-type {\n",
       "        vertical-align: middle;\n",
       "    }\n",
       "\n",
       "    .dataframe tbody tr th {\n",
       "        vertical-align: top;\n",
       "    }\n",
       "\n",
       "    .dataframe thead th {\n",
       "        text-align: right;\n",
       "    }\n",
       "</style>\n",
       "<table border=\"1\" class=\"dataframe\">\n",
       "  <thead>\n",
       "    <tr style=\"text-align: right;\">\n",
       "      <th></th>\n",
       "      <th>geography</th>\n",
       "      <th>date</th>\n",
       "      <th>Value</th>\n",
       "    </tr>\n",
       "  </thead>\n",
       "  <tbody>\n",
       "    <tr>\n",
       "      <th>2</th>\n",
       "      <td>Northern Ireland</td>\n",
       "      <td>1981</td>\n",
       "      <td>NaN</td>\n",
       "    </tr>\n",
       "    <tr>\n",
       "      <th>6</th>\n",
       "      <td>Northern Ireland</td>\n",
       "      <td>1982</td>\n",
       "      <td>NaN</td>\n",
       "    </tr>\n",
       "    <tr>\n",
       "      <th>10</th>\n",
       "      <td>Northern Ireland</td>\n",
       "      <td>1983</td>\n",
       "      <td>NaN</td>\n",
       "    </tr>\n",
       "    <tr>\n",
       "      <th>14</th>\n",
       "      <td>Northern Ireland</td>\n",
       "      <td>1984</td>\n",
       "      <td>NaN</td>\n",
       "    </tr>\n",
       "    <tr>\n",
       "      <th>18</th>\n",
       "      <td>Northern Ireland</td>\n",
       "      <td>1985</td>\n",
       "      <td>NaN</td>\n",
       "    </tr>\n",
       "    <tr>\n",
       "      <th>22</th>\n",
       "      <td>Northern Ireland</td>\n",
       "      <td>1986</td>\n",
       "      <td>NaN</td>\n",
       "    </tr>\n",
       "    <tr>\n",
       "      <th>26</th>\n",
       "      <td>Northern Ireland</td>\n",
       "      <td>1987</td>\n",
       "      <td>NaN</td>\n",
       "    </tr>\n",
       "    <tr>\n",
       "      <th>30</th>\n",
       "      <td>Northern Ireland</td>\n",
       "      <td>1988</td>\n",
       "      <td>NaN</td>\n",
       "    </tr>\n",
       "    <tr>\n",
       "      <th>34</th>\n",
       "      <td>Northern Ireland</td>\n",
       "      <td>1989</td>\n",
       "      <td>NaN</td>\n",
       "    </tr>\n",
       "    <tr>\n",
       "      <th>38</th>\n",
       "      <td>Northern Ireland</td>\n",
       "      <td>1990</td>\n",
       "      <td>NaN</td>\n",
       "    </tr>\n",
       "    <tr>\n",
       "      <th>42</th>\n",
       "      <td>Northern Ireland</td>\n",
       "      <td>1991</td>\n",
       "      <td>NaN</td>\n",
       "    </tr>\n",
       "  </tbody>\n",
       "</table>\n",
       "</div>"
      ],
      "text/plain": [
       "           geography  date  Value\n",
       "2   Northern Ireland  1981    NaN\n",
       "6   Northern Ireland  1982    NaN\n",
       "10  Northern Ireland  1983    NaN\n",
       "14  Northern Ireland  1984    NaN\n",
       "18  Northern Ireland  1985    NaN\n",
       "22  Northern Ireland  1986    NaN\n",
       "26  Northern Ireland  1987    NaN\n",
       "30  Northern Ireland  1988    NaN\n",
       "34  Northern Ireland  1989    NaN\n",
       "38  Northern Ireland  1990    NaN\n",
       "42  Northern Ireland  1991    NaN"
      ]
     },
     "execution_count": 16,
     "metadata": {},
     "output_type": "execute_result"
    }
   ],
   "source": [
    "# Population for Northern Ireland only available from 1992\n",
    "total_population_by_region[total_population_by_region.Value.isnull()]"
   ]
  },
  {
   "cell_type": "code",
   "execution_count": 17,
   "metadata": {},
   "outputs": [
    {
     "data": {
      "text/plain": [
       "<matplotlib.legend.Legend at 0x1096b1a20>"
      ]
     },
     "execution_count": 17,
     "metadata": {},
     "output_type": "execute_result"
    },
    {
     "data": {
      "image/png": "[encoded data removed]",
      "text/plain": [
       "<Figure size 720x576 with 3 Axes>"
      ]
     },
     "metadata": {},
     "output_type": "display_data"
    }
   ],
   "source": [
    "england = total_population_by_region[total_population_by_region.geography == 'England'][['geography', 'date', 'Value']]\n",
    "northern_ireland = total_population_by_region[total_population_by_region.geography == 'Northern Ireland'][['geography', 'date', 'Value']]\n",
    "scotland = total_population_by_region[total_population_by_region.geography == 'Scotland'][['geography', 'date', 'Value']]\n",
    "wales = total_population_by_region[total_population_by_region.geography == 'Wales'][['geography', 'date', 'Value']]\n",
    "\n",
    "fig = plt.figure(figsize=(10, 8))\n",
    "\n",
    "bax = brokenaxes(ylims=((0, 0.75e7), (4e7, 6e7)), hspace=.08)\n",
    "\n",
    "bax.plot(england.date, england.Value, label='England')\n",
    "bax.plot(northern_ireland.date, northern_ireland.Value, label='Northern Ireland')\n",
    "bax.plot(scotland.date, scotland.Value, label='Scotland')\n",
    "bax.plot(wales.date, wales.Value, label='Wales')\n",
    "bax.set_xlabel('Year')\n",
    "bax.set_ylabel('Population (10s millions)')\n",
    "\n",
    "\n",
    "plt.xticks(rotation='vertical')\n",
    "plt.title('Population Change by UK Region from 1981 to 2017', fontsize=20)\n",
    "bax.legend(loc=5)"
   ]
  },
  {
   "cell_type": "code",
   "execution_count": 18,
   "metadata": {},
   "outputs": [
    {
     "name": "stdout",
     "output_type": "stream",
     "text": [
      "England 0.1879207531695315\n",
      "Northern Ireland nan\n",
      "Scotland 0.047218254121462494\n",
      "Wales 0.11078727563532965\n"
     ]
    }
   ],
   "source": [
    "#percentage increase\n",
    "def get_percentage_increase(df):\n",
    "    return (df[df.date == df.date.max()].iloc[0].Value - df[df.date == df.date.min()].iloc[0].Value) / df[df.date == df.date.min()].iloc[0].Value\n",
    "\n",
    "print('England', get_percentage_increase(england))\n",
    "print('Northern Ireland', get_percentage_increase(northern_ireland))\n",
    "print('Scotland', get_percentage_increase(scotland))\n",
    "print('Wales', get_percentage_increase(wales))"
   ]
  },
  {
   "cell_type": "code",
   "execution_count": 19,
   "metadata": {
    "collapsed": true
   },
   "outputs": [],
   "source": [
    "def plot_age_groups_over_time(region):\n",
    "    region_df = df[(df.geography == region) & (df.sex == 'Total') & (df.age != 'All ages') & (df.measures == 'Percent')]\n",
    "    \n",
    "    chart_data = pd.DataFrame({\n",
    "        'date': region_df.date.unique().tolist()\n",
    "    }, index=range(1,38))\n",
    "\n",
    "    for age_group in region_df.age.unique()[-3:]:\n",
    "        chart_data[str(age_group)] = region_df[(region_df.age == age_group)].Value.tolist()\n",
    "\n",
    "    plt.stackplot(chart_data.date, chart_data['Aged 0 - 15'],  chart_data['Aged 16 - 64'],  chart_data['Aged 65 and over'], labels=['Aged 0 - 15','Aged 16 - 64','Aged 65 and over'])\n",
    "    plt.xticks(rotation='vertical')\n",
    "    plt.legend(loc='center right')\n",
    "    plt.margins(0,0)\n",
    "    plt.title('{0} Population by Age Group, 1992-2017'.format(region))\n",
    "    plt.xlabel('Year')\n",
    "    plt.ylabel('Percentage (%)')\n",
    "\n",
    "    print('Age Groups in 1992')\n",
    "    print(region_df[(region_df.date == '1992') & (region_df.age.isin(region_df.age.unique()[-3:]))])\n",
    "    print()\n",
    "    print('Age Groups in 2017')\n",
    "    print(region_df[(region_df.date == '2017') & (region_df.age.isin(region_df.age.unique()[-3:]))])\n",
    "    print()"
   ]
  },
  {
   "cell_type": "code",
   "execution_count": 20,
   "metadata": {},
   "outputs": [
    {
     "name": "stdout",
     "output_type": "stream",
     "text": [
      "Age Groups in 1992\n",
      "     geography  date    sex               age measures  Value\n",
      "6745     Wales  1992  Total      Aged 16 - 64  Percent   62.1\n",
      "6747     Wales  1992  Total       Aged 0 - 15  Percent   20.6\n",
      "6749     Wales  1992  Total  Aged 65 and over  Percent   17.3\n",
      "\n",
      "Age Groups in 2017\n",
      "      geography  date    sex               age measures  Value\n",
      "21745     Wales  2017  Total      Aged 16 - 64  Percent   61.5\n",
      "21747     Wales  2017  Total       Aged 0 - 15  Percent   17.9\n",
      "21749     Wales  2017  Total  Aged 65 and over  Percent   20.6\n",
      "\n"
     ]
    },
    {
     "data": {
      "image/png": "[encoded data removed]",
      "text/plain": [
       "<Figure size 432x288 with 1 Axes>"
      ]
     },
     "metadata": {},
     "output_type": "display_data"
    }
   ],
   "source": [
    "plot_age_groups_over_time('Wales')"
   ]
  },
  {
   "cell_type": "code",
   "execution_count": 21,
   "metadata": {},
   "outputs": [
    {
     "name": "stdout",
     "output_type": "stream",
     "text": [
      "Age Groups in 1992\n",
      "     geography  date    sex               age measures  Value\n",
      "6895  Scotland  1992  Total      Aged 16 - 64  Percent   64.7\n",
      "6897  Scotland  1992  Total       Aged 0 - 15  Percent   20.1\n",
      "6899  Scotland  1992  Total  Aged 65 and over  Percent   15.2\n",
      "\n",
      "Age Groups in 2017\n",
      "      geography  date    sex               age measures  Value\n",
      "21895  Scotland  2017  Total      Aged 16 - 64  Percent   64.4\n",
      "21897  Scotland  2017  Total       Aged 0 - 15  Percent   16.9\n",
      "21899  Scotland  2017  Total  Aged 65 and over  Percent   18.7\n",
      "\n"
     ]
    },
    {
     "data": {
      "image/png": "[encoded data removed]",
      "text/plain": [
       "<Figure size 432x288 with 1 Axes>"
      ]
     },
     "metadata": {},
     "output_type": "display_data"
    }
   ],
   "source": [
    "plot_age_groups_over_time('Scotland')"
   ]
  },
  {
   "cell_type": "code",
   "execution_count": 22,
   "metadata": {},
   "outputs": [
    {
     "name": "stdout",
     "output_type": "stream",
     "text": [
      "Age Groups in 1992\n",
      "             geography  date    sex               age measures  Value\n",
      "7045  Northern Ireland  1992  Total      Aged 16 - 64  Percent   61.3\n",
      "7047  Northern Ireland  1992  Total       Aged 0 - 15  Percent   25.7\n",
      "7049  Northern Ireland  1992  Total  Aged 65 and over  Percent   13.0\n",
      "\n",
      "Age Groups in 2017\n",
      "              geography  date    sex               age measures  Value\n",
      "22045  Northern Ireland  2017  Total      Aged 16 - 64  Percent   62.9\n",
      "22047  Northern Ireland  2017  Total       Aged 0 - 15  Percent   20.9\n",
      "22049  Northern Ireland  2017  Total  Aged 65 and over  Percent   16.2\n",
      "\n"
     ]
    },
    {
     "data": {
      "image/png": "[encoded data removed]",
      "text/plain": [
       "<Figure size 432x288 with 1 Axes>"
      ]
     },
     "metadata": {},
     "output_type": "display_data"
    }
   ],
   "source": [
    "plot_age_groups_over_time('Northern Ireland')"
   ]
  },
  {
   "cell_type": "markdown",
   "metadata": {},
   "source": [
    "Have to handle England data differently, as only get data for both England and Wales together."
   ]
  },
  {
   "cell_type": "code",
   "execution_count": 23,
   "metadata": {},
   "outputs": [
    {
     "data": {
      "text/html": [
       "<div>\n",
       "<style scoped>\n",
       "    .dataframe tbody tr th:only-of-type {\n",
       "        vertical-align: middle;\n",
       "    }\n",
       "\n",
       "    .dataframe tbody tr th {\n",
       "        vertical-align: top;\n",
       "    }\n",
       "\n",
       "    .dataframe thead th {\n",
       "        text-align: right;\n",
       "    }\n",
       "</style>\n",
       "<table border=\"1\" class=\"dataframe\">\n",
       "  <thead>\n",
       "    <tr style=\"text-align: right;\">\n",
       "      <th></th>\n",
       "      <th>geography</th>\n",
       "      <th>date</th>\n",
       "      <th>sex</th>\n",
       "      <th>age</th>\n",
       "      <th>measures</th>\n",
       "      <th>Value</th>\n",
       "    </tr>\n",
       "  </thead>\n",
       "  <tbody>\n",
       "    <tr>\n",
       "      <th>552</th>\n",
       "      <td>England and Wales</td>\n",
       "      <td>1981</td>\n",
       "      <td>Total</td>\n",
       "      <td>Aged under 1 year</td>\n",
       "      <td>Value</td>\n",
       "      <td>634100.0</td>\n",
       "    </tr>\n",
       "    <tr>\n",
       "      <th>554</th>\n",
       "      <td>England and Wales</td>\n",
       "      <td>1981</td>\n",
       "      <td>Total</td>\n",
       "      <td>Aged 1 - 4 years</td>\n",
       "      <td>Value</td>\n",
       "      <td>2371500.0</td>\n",
       "    </tr>\n",
       "    <tr>\n",
       "      <th>556</th>\n",
       "      <td>England and Wales</td>\n",
       "      <td>1981</td>\n",
       "      <td>Total</td>\n",
       "      <td>Aged 5 - 9 years</td>\n",
       "      <td>Value</td>\n",
       "      <td>3196300.0</td>\n",
       "    </tr>\n",
       "    <tr>\n",
       "      <th>558</th>\n",
       "      <td>England and Wales</td>\n",
       "      <td>1981</td>\n",
       "      <td>Total</td>\n",
       "      <td>Aged 10 - 14 years</td>\n",
       "      <td>Value</td>\n",
       "      <td>3888700.0</td>\n",
       "    </tr>\n",
       "    <tr>\n",
       "      <th>560</th>\n",
       "      <td>England and Wales</td>\n",
       "      <td>1981</td>\n",
       "      <td>Total</td>\n",
       "      <td>Aged 15 - 19 years</td>\n",
       "      <td>Value</td>\n",
       "      <td>4129700.0</td>\n",
       "    </tr>\n",
       "  </tbody>\n",
       "</table>\n",
       "</div>"
      ],
      "text/plain": [
       "             geography  date    sex                 age measures      Value\n",
       "552  England and Wales  1981  Total   Aged under 1 year    Value   634100.0\n",
       "554  England and Wales  1981  Total    Aged 1 - 4 years    Value  2371500.0\n",
       "556  England and Wales  1981  Total    Aged 5 - 9 years    Value  3196300.0\n",
       "558  England and Wales  1981  Total  Aged 10 - 14 years    Value  3888700.0\n",
       "560  England and Wales  1981  Total  Aged 15 - 19 years    Value  4129700.0"
      ]
     },
     "execution_count": 23,
     "metadata": {},
     "output_type": "execute_result"
    }
   ],
   "source": [
    "england_and_wales_demographics = df[(df.geography == 'England and Wales') & (df.sex == 'Total') & (df.age != 'All ages') & (df.measures == 'Value')]\n",
    "england_and_wales_demographics.head()"
   ]
  },
  {
   "cell_type": "code",
   "execution_count": 24,
   "metadata": {},
   "outputs": [],
   "source": [
    "# Get absolute value for relavant age groups in England\n",
    "wales_demographics = df[(df.geography == 'Wales') & (df.sex == 'Total') & (df.age != 'All ages') & (df.measures == 'Value')]\n",
    "england_and_wales_demographics = england_and_wales_demographics[~england_and_wales_demographics.Value.isnull()]\n",
    "\n",
    "for year in england_and_wales_demographics.date.unique()[11:]:\n",
    "    for age_group in ['Aged 0 - 15', 'Aged 16 - 64', 'Aged 65 and over']:\n",
    "        england_and_wales_pop = england_and_wales_demographics[(england_and_wales_demographics.date == year) & (england_and_wales_demographics.age == age_group)].iloc[0].Value\n",
    "        wales_pop = wales_demographics[(wales_demographics.date == year) & (wales_demographics.age == age_group)].iloc[0].Value\n",
    "        value = england_and_wales_pop - wales_pop\n",
    "\n",
    "        england_and_wales_demographics = england_and_wales_demographics.append({'geography': 'England', 'date' : year, 'sex': 'Total', 'age': age_group, 'measures': 'Value', 'Value': value}, ignore_index=True)\n",
    "        "
   ]
  },
  {
   "cell_type": "code",
   "execution_count": 25,
   "metadata": {},
   "outputs": [],
   "source": [
    "# Calculate percentages to get similar chart as above\n",
    "england_demographics = england_and_wales_demographics[england_and_wales_demographics.geography == 'England']\n",
    "\n",
    "for year in england_demographics.date.unique():\n",
    "    total = england_demographics[england_demographics.date == year].Value.sum()\n",
    "    for age_group in england_demographics.age.unique():\n",
    "        value_for_age_group = england_demographics[(england_demographics.date == year) & (england_demographics.age == age_group)].iloc[0].Value\n",
    "        value = (float(value_for_age_group)/ total) * 100\n",
    "        england_demographics = england_demographics.append({'geography': 'England', 'date' : year, 'sex': 'Total', 'age': age_group, 'measures': 'Percent', 'Value': value}, ignore_index=True)"
   ]
  },
  {
   "cell_type": "code",
   "execution_count": 26,
   "metadata": {},
   "outputs": [
    {
     "data": {
      "text/plain": [
       "Text(0,0.5,'Percentage (%)')"
      ]
     },
     "execution_count": 26,
     "metadata": {},
     "output_type": "execute_result"
    },
    {
     "data": {
      "image/png": "[encoded data removed]",
      "text/plain": [
       "<Figure size 432x288 with 1 Axes>"
      ]
     },
     "metadata": {},
     "output_type": "display_data"
    }
   ],
   "source": [
    "england_demographics = england_demographics[(england_demographics.geography == 'England') & (england_demographics.measures == 'Percent')]\n",
    "\n",
    "chart_data = pd.DataFrame({\n",
    "    'date': england_demographics.date.unique().tolist()\n",
    "}, index=range(1,27))\n",
    "\n",
    "for age_group in ['Aged 0 - 15', 'Aged 16 - 64', 'Aged 65 and over']:\n",
    "    chart_data[age_group] = england_demographics[(england_demographics.age == age_group)].Value.tolist()\n",
    "\n",
    "plt.stackplot(chart_data.date, chart_data['Aged 0 - 15'],  chart_data['Aged 16 - 64'],  chart_data['Aged 65 and over'], labels=chart_data.columns[1:])\n",
    "plt.xticks(rotation='vertical')\n",
    "plt.legend(loc='center right')\n",
    "plt.margins(0,0)\n",
    "plt.title('England\\'s Population by Age Group, 1992-2017')\n",
    "plt.xlabel('Year')\n",
    "plt.ylabel('Percentage (%)')"
   ]
  },
  {
   "cell_type": "code",
   "execution_count": 27,
   "metadata": {},
   "outputs": [
    {
     "data": {
      "text/html": [
       "<div>\n",
       "<style scoped>\n",
       "    .dataframe tbody tr th:only-of-type {\n",
       "        vertical-align: middle;\n",
       "    }\n",
       "\n",
       "    .dataframe tbody tr th {\n",
       "        vertical-align: top;\n",
       "    }\n",
       "\n",
       "    .dataframe thead th {\n",
       "        text-align: right;\n",
       "    }\n",
       "</style>\n",
       "<table border=\"1\" class=\"dataframe\">\n",
       "  <thead>\n",
       "    <tr style=\"text-align: right;\">\n",
       "      <th></th>\n",
       "      <th>geography</th>\n",
       "      <th>date</th>\n",
       "      <th>sex</th>\n",
       "      <th>age</th>\n",
       "      <th>measures</th>\n",
       "      <th>Value</th>\n",
       "    </tr>\n",
       "  </thead>\n",
       "  <tbody>\n",
       "    <tr>\n",
       "      <th>78</th>\n",
       "      <td>England</td>\n",
       "      <td>1992</td>\n",
       "      <td>Total</td>\n",
       "      <td>Aged 0 - 15</td>\n",
       "      <td>Percent</td>\n",
       "      <td>20.330596</td>\n",
       "    </tr>\n",
       "    <tr>\n",
       "      <th>79</th>\n",
       "      <td>England</td>\n",
       "      <td>1992</td>\n",
       "      <td>Total</td>\n",
       "      <td>Aged 16 - 64</td>\n",
       "      <td>Percent</td>\n",
       "      <td>63.791900</td>\n",
       "    </tr>\n",
       "    <tr>\n",
       "      <th>80</th>\n",
       "      <td>England</td>\n",
       "      <td>1992</td>\n",
       "      <td>Total</td>\n",
       "      <td>Aged 65 and over</td>\n",
       "      <td>Percent</td>\n",
       "      <td>15.877503</td>\n",
       "    </tr>\n",
       "  </tbody>\n",
       "</table>\n",
       "</div>"
      ],
      "text/plain": [
       "   geography  date    sex               age measures      Value\n",
       "78   England  1992  Total       Aged 0 - 15  Percent  20.330596\n",
       "79   England  1992  Total      Aged 16 - 64  Percent  63.791900\n",
       "80   England  1992  Total  Aged 65 and over  Percent  15.877503"
      ]
     },
     "execution_count": 27,
     "metadata": {},
     "output_type": "execute_result"
    }
   ],
   "source": [
    "england_demographics[england_demographics.date == '1992']"
   ]
  },
  {
   "cell_type": "code",
   "execution_count": 28,
   "metadata": {},
   "outputs": [
    {
     "data": {
      "text/html": [
       "<div>\n",
       "<style scoped>\n",
       "    .dataframe tbody tr th:only-of-type {\n",
       "        vertical-align: middle;\n",
       "    }\n",
       "\n",
       "    .dataframe tbody tr th {\n",
       "        vertical-align: top;\n",
       "    }\n",
       "\n",
       "    .dataframe thead th {\n",
       "        text-align: right;\n",
       "    }\n",
       "</style>\n",
       "<table border=\"1\" class=\"dataframe\">\n",
       "  <thead>\n",
       "    <tr style=\"text-align: right;\">\n",
       "      <th></th>\n",
       "      <th>geography</th>\n",
       "      <th>date</th>\n",
       "      <th>sex</th>\n",
       "      <th>age</th>\n",
       "      <th>measures</th>\n",
       "      <th>Value</th>\n",
       "    </tr>\n",
       "  </thead>\n",
       "  <tbody>\n",
       "    <tr>\n",
       "      <th>153</th>\n",
       "      <td>England</td>\n",
       "      <td>2017</td>\n",
       "      <td>Total</td>\n",
       "      <td>Aged 0 - 15</td>\n",
       "      <td>Percent</td>\n",
       "      <td>19.126240</td>\n",
       "    </tr>\n",
       "    <tr>\n",
       "      <th>154</th>\n",
       "      <td>England</td>\n",
       "      <td>2017</td>\n",
       "      <td>Total</td>\n",
       "      <td>Aged 16 - 64</td>\n",
       "      <td>Percent</td>\n",
       "      <td>62.839585</td>\n",
       "    </tr>\n",
       "    <tr>\n",
       "      <th>155</th>\n",
       "      <td>England</td>\n",
       "      <td>2017</td>\n",
       "      <td>Total</td>\n",
       "      <td>Aged 65 and over</td>\n",
       "      <td>Percent</td>\n",
       "      <td>18.034175</td>\n",
       "    </tr>\n",
       "  </tbody>\n",
       "</table>\n",
       "</div>"
      ],
      "text/plain": [
       "    geography  date    sex               age measures      Value\n",
       "153   England  2017  Total       Aged 0 - 15  Percent  19.126240\n",
       "154   England  2017  Total      Aged 16 - 64  Percent  62.839585\n",
       "155   England  2017  Total  Aged 65 and over  Percent  18.034175"
      ]
     },
     "execution_count": 28,
     "metadata": {},
     "output_type": "execute_result"
    }
   ],
   "source": [
    "england_demographics[england_demographics.date == '2017']"
   ]
  },
  {
   "cell_type": "code",
   "execution_count": null,
   "metadata": {
    "collapsed": true
   },
   "outputs": [],
   "source": []
  }
 ],
 "metadata": {
  "kernelspec": {
   "display_name": "Python 3",
   "language": "python",
   "name": "python3"
  },
  "language_info": {
   "codemirror_mode": {
    "name": "ipython",
    "version": 3
   },
   "file_extension": ".py",
   "mimetype": "text/x-python",
   "name": "python",
   "nbconvert_exporter": "python",
   "pygments_lexer": "ipython3",
   "version": "3.6.4"
  }
 },
 "nbformat": 4,
 "nbformat_minor": 2
}
